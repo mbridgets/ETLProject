{
 "cells": [
  {
   "cell_type": "code",
   "execution_count": 14,
   "metadata": {},
   "outputs": [],
   "source": [
    "#import all libraries needed \n",
    "import os\n",
    "import pandas as pd\n",
    "\n",
    "# from api_keys import gkey\n",
    "import gmaps\n",
    "import gmaps.datasets\n",
    "import matplotlib.pyplot as plt\n",
    "import numpy as np\n",
    "import requests\n",
    "import time\n",
    "from scipy.stats import linregress\n",
    "import scipy.stats as st\n",
    "from sqlalchemy import create_engine"
   ]
  },
  {
   "cell_type": "code",
   "execution_count": 15,
   "metadata": {},
   "outputs": [],
   "source": [
    "#Get Path to get to the Datasets\n",
    "WorldBankpath = os.path.join('Data Sets', 'WorldBank.csv')\n"
   ]
  },
  {
   "cell_type": "code",
   "execution_count": 16,
   "metadata": {
    "scrolled": true
   },
   "outputs": [],
   "source": [
    "#read the files \n",
    "WorldBank = pd.read_csv(WorldBankpath)\n"
   ]
  },
  {
   "cell_type": "code",
   "execution_count": 17,
   "metadata": {},
   "outputs": [],
   "source": [
    "WorldBankDrop = WorldBank[['Country Name', 'Country Code', 'Series Name','2011 [YR2011]', '2012 [YR2012]',\n",
    "       '2013 [YR2013]', '2014 [YR2014]', '2015 [YR2015]', '2016 [YR2016]',\n",
    "       '2017 [YR2017]', '2018 [YR2018]']]"
   ]
  },
  {
   "cell_type": "code",
   "execution_count": 18,
   "metadata": {},
   "outputs": [],
   "source": [
    "# Remove the rows with missing data\n",
    "cleanBlank = WorldBankDrop.dropna(how=\"any\")\n"
   ]
  },
  {
   "cell_type": "code",
   "execution_count": 19,
   "metadata": {},
   "outputs": [],
   "source": [
    "cleanBlank2 = cleanBlank.drop(cleanBlank[(cleanBlank['Country Code'] == 'LCN')].index)"
   ]
  },
  {
   "cell_type": "code",
   "execution_count": 20,
   "metadata": {},
   "outputs": [],
   "source": [
    "BankRename = cleanBlank2.rename(columns={'Country Name': 'country_name', 'Country Code' : 'country_code', 'Series Name': 'series_name','2011 [YR2011]': 'yr2011', '2012 [YR2012]': 'yr2012', '2013 [YR2013]': 'yr2013', '2014 [YR2014]' : 'yr2014', '2015 [YR2015]' : 'yr2015', '2016 [YR2016]' : 'yr2016', '2017 [YR2017]' : 'yr2017', '2018 [YR2018]' : 'yr2018'  })"
   ]
  },
  {
   "cell_type": "code",
   "execution_count": 21,
   "metadata": {},
   "outputs": [],
   "source": [
    "BankRename2 = BankRename[['country_name', 'series_name', 'yr2011', 'yr2012', 'yr2013',\n",
    "       'yr2014', 'yr2015', 'yr2016', 'yr2017', 'yr2018']]"
   ]
  },
  {
   "cell_type": "code",
   "execution_count": 22,
   "metadata": {},
   "outputs": [
    {
     "data": {
      "text/html": [
       "<div>\n",
       "<style scoped>\n",
       "    .dataframe tbody tr th:only-of-type {\n",
       "        vertical-align: middle;\n",
       "    }\n",
       "\n",
       "    .dataframe tbody tr th {\n",
       "        vertical-align: top;\n",
       "    }\n",
       "\n",
       "    .dataframe thead th {\n",
       "        text-align: right;\n",
       "    }\n",
       "</style>\n",
       "<table border=\"1\" class=\"dataframe\">\n",
       "  <thead>\n",
       "    <tr style=\"text-align: right;\">\n",
       "      <th></th>\n",
       "      <th>country_name</th>\n",
       "      <th>series_name</th>\n",
       "      <th>yr2011</th>\n",
       "      <th>yr2012</th>\n",
       "      <th>yr2013</th>\n",
       "      <th>yr2014</th>\n",
       "      <th>yr2015</th>\n",
       "      <th>yr2016</th>\n",
       "      <th>yr2017</th>\n",
       "      <th>yr2018</th>\n",
       "    </tr>\n",
       "  </thead>\n",
       "  <tbody>\n",
       "    <tr>\n",
       "      <th>55</th>\n",
       "      <td>Costa Rica</td>\n",
       "      <td>Population, total</td>\n",
       "      <td>4633086</td>\n",
       "      <td>4688000</td>\n",
       "      <td>4742107</td>\n",
       "      <td>4795396</td>\n",
       "      <td>4847804</td>\n",
       "      <td>4899345</td>\n",
       "      <td>4949954</td>\n",
       "      <td>4999441</td>\n",
       "    </tr>\n",
       "    <tr>\n",
       "      <th>56</th>\n",
       "      <td>Costa Rica</td>\n",
       "      <td>Population growth (annual %)</td>\n",
       "      <td>1.20968236400613</td>\n",
       "      <td>1.17828835259712</td>\n",
       "      <td>1.14754994327846</td>\n",
       "      <td>1.11747392449788</td>\n",
       "      <td>1.08695279543583</td>\n",
       "      <td>1.05757038052655</td>\n",
       "      <td>1.02767608960277</td>\n",
       "      <td>0.99478225758881</td>\n",
       "    </tr>\n",
       "    <tr>\n",
       "      <th>57</th>\n",
       "      <td>Costa Rica</td>\n",
       "      <td>Surface area (sq. km)</td>\n",
       "      <td>51100</td>\n",
       "      <td>51100</td>\n",
       "      <td>51100</td>\n",
       "      <td>51100</td>\n",
       "      <td>51100</td>\n",
       "      <td>51100</td>\n",
       "      <td>51100</td>\n",
       "      <td>51100</td>\n",
       "    </tr>\n",
       "    <tr>\n",
       "      <th>58</th>\n",
       "      <td>Costa Rica</td>\n",
       "      <td>Population density (people per sq. km of land ...</td>\n",
       "      <td>90.7380728554642</td>\n",
       "      <td>91.8135526831179</td>\n",
       "      <td>92.8732275754015</td>\n",
       "      <td>93.9168820994908</td>\n",
       "      <td>94.9432824128476</td>\n",
       "      <td>95.9527027027027</td>\n",
       "      <td>96.9438699569134</td>\n",
       "      <td>97.9130630630631</td>\n",
       "    </tr>\n",
       "    <tr>\n",
       "      <th>59</th>\n",
       "      <td>Costa Rica</td>\n",
       "      <td>Poverty headcount ratio at national poverty li...</td>\n",
       "      <td>21.7</td>\n",
       "      <td>20.6</td>\n",
       "      <td>20.7</td>\n",
       "      <td>22.4</td>\n",
       "      <td>21.7</td>\n",
       "      <td>20.5</td>\n",
       "      <td>20</td>\n",
       "      <td>21.1</td>\n",
       "    </tr>\n",
       "    <tr>\n",
       "      <th>...</th>\n",
       "      <td>...</td>\n",
       "      <td>...</td>\n",
       "      <td>...</td>\n",
       "      <td>...</td>\n",
       "      <td>...</td>\n",
       "      <td>...</td>\n",
       "      <td>...</td>\n",
       "      <td>...</td>\n",
       "      <td>...</td>\n",
       "      <td>...</td>\n",
       "    </tr>\n",
       "    <tr>\n",
       "      <th>270</th>\n",
       "      <td>Nicaragua</td>\n",
       "      <td>Total debt service (% of exports of goods, ser...</td>\n",
       "      <td>16.5034812629961</td>\n",
       "      <td>13.1993935702772</td>\n",
       "      <td>12.619058858323</td>\n",
       "      <td>13.0433478797368</td>\n",
       "      <td>15.4249727683352</td>\n",
       "      <td>15.9334779279193</td>\n",
       "      <td>19.8201596232055</td>\n",
       "      <td>19.0280490011247</td>\n",
       "    </tr>\n",
       "    <tr>\n",
       "      <th>271</th>\n",
       "      <td>Nicaragua</td>\n",
       "      <td>Net migration</td>\n",
       "      <td>..</td>\n",
       "      <td>-135020</td>\n",
       "      <td>..</td>\n",
       "      <td>..</td>\n",
       "      <td>..</td>\n",
       "      <td>..</td>\n",
       "      <td>-106360</td>\n",
       "      <td>..</td>\n",
       "    </tr>\n",
       "    <tr>\n",
       "      <th>272</th>\n",
       "      <td>Nicaragua</td>\n",
       "      <td>Personal remittances, received (current US$)</td>\n",
       "      <td>913600000</td>\n",
       "      <td>1016300000</td>\n",
       "      <td>1081300000</td>\n",
       "      <td>1140200000</td>\n",
       "      <td>1197500000</td>\n",
       "      <td>1268100000</td>\n",
       "      <td>1394700000</td>\n",
       "      <td>1504800000</td>\n",
       "    </tr>\n",
       "    <tr>\n",
       "      <th>273</th>\n",
       "      <td>Nicaragua</td>\n",
       "      <td>Foreign direct investment, net inflows (BoP, c...</td>\n",
       "      <td>936300000</td>\n",
       "      <td>767700000</td>\n",
       "      <td>815500000</td>\n",
       "      <td>884100000</td>\n",
       "      <td>949900000</td>\n",
       "      <td>898700000</td>\n",
       "      <td>771900000</td>\n",
       "      <td>359200000</td>\n",
       "    </tr>\n",
       "    <tr>\n",
       "      <th>274</th>\n",
       "      <td>Nicaragua</td>\n",
       "      <td>Net official development assistance and offici...</td>\n",
       "      <td>536580017.089844</td>\n",
       "      <td>532320007.324219</td>\n",
       "      <td>495799987.792969</td>\n",
       "      <td>432170013.427734</td>\n",
       "      <td>457920013.427734</td>\n",
       "      <td>430980010.986328</td>\n",
       "      <td>562590026.855469</td>\n",
       "      <td>351950012.207031</td>\n",
       "    </tr>\n",
       "  </tbody>\n",
       "</table>\n",
       "<p>220 rows × 10 columns</p>\n",
       "</div>"
      ],
      "text/plain": [
       "    country_name                                        series_name  \\\n",
       "55    Costa Rica                                  Population, total   \n",
       "56    Costa Rica                       Population growth (annual %)   \n",
       "57    Costa Rica                              Surface area (sq. km)   \n",
       "58    Costa Rica  Population density (people per sq. km of land ...   \n",
       "59    Costa Rica  Poverty headcount ratio at national poverty li...   \n",
       "..           ...                                                ...   \n",
       "270    Nicaragua  Total debt service (% of exports of goods, ser...   \n",
       "271    Nicaragua                                      Net migration   \n",
       "272    Nicaragua       Personal remittances, received (current US$)   \n",
       "273    Nicaragua  Foreign direct investment, net inflows (BoP, c...   \n",
       "274    Nicaragua  Net official development assistance and offici...   \n",
       "\n",
       "               yr2011            yr2012            yr2013            yr2014  \\\n",
       "55            4633086           4688000           4742107           4795396   \n",
       "56   1.20968236400613  1.17828835259712  1.14754994327846  1.11747392449788   \n",
       "57              51100             51100             51100             51100   \n",
       "58   90.7380728554642  91.8135526831179  92.8732275754015  93.9168820994908   \n",
       "59               21.7              20.6              20.7              22.4   \n",
       "..                ...               ...               ...               ...   \n",
       "270  16.5034812629961  13.1993935702772   12.619058858323  13.0433478797368   \n",
       "271                ..           -135020                ..                ..   \n",
       "272         913600000        1016300000        1081300000        1140200000   \n",
       "273         936300000         767700000         815500000         884100000   \n",
       "274  536580017.089844  532320007.324219  495799987.792969  432170013.427734   \n",
       "\n",
       "               yr2015            yr2016            yr2017            yr2018  \n",
       "55            4847804           4899345           4949954           4999441  \n",
       "56   1.08695279543583  1.05757038052655  1.02767608960277  0.99478225758881  \n",
       "57              51100             51100             51100             51100  \n",
       "58   94.9432824128476  95.9527027027027  96.9438699569134  97.9130630630631  \n",
       "59               21.7              20.5                20              21.1  \n",
       "..                ...               ...               ...               ...  \n",
       "270  15.4249727683352  15.9334779279193  19.8201596232055  19.0280490011247  \n",
       "271                ..                ..           -106360                ..  \n",
       "272        1197500000        1268100000        1394700000        1504800000  \n",
       "273         949900000         898700000         771900000         359200000  \n",
       "274  457920013.427734  430980010.986328  562590026.855469  351950012.207031  \n",
       "\n",
       "[220 rows x 10 columns]"
      ]
     },
     "execution_count": 22,
     "metadata": {},
     "output_type": "execute_result"
    }
   ],
   "source": [
    "BankRename2"
   ]
  },
  {
   "cell_type": "code",
   "execution_count": 23,
   "metadata": {},
   "outputs": [],
   "source": [
    "rds_connection_string = \"admin1:12345@localhost:5432/ETL_Gary_and_Maria\"\n",
    "engine = create_engine(f'postgresql://{rds_connection_string}')"
   ]
  },
  {
   "cell_type": "code",
   "execution_count": 24,
   "metadata": {},
   "outputs": [
    {
     "data": {
      "text/plain": [
       "['kiva_data', 'worldbank_data']"
      ]
     },
     "execution_count": 24,
     "metadata": {},
     "output_type": "execute_result"
    }
   ],
   "source": [
    "engine.table_names()"
   ]
  },
  {
   "cell_type": "code",
   "execution_count": 26,
   "metadata": {},
   "outputs": [],
   "source": [
    "BankRename2.to_sql(name='WorldBank_data', con=engine, if_exists='append', index=False)"
   ]
  },
  {
   "cell_type": "code",
   "execution_count": 27,
   "metadata": {},
   "outputs": [
    {
     "data": {
      "text/html": [
       "<div>\n",
       "<style scoped>\n",
       "    .dataframe tbody tr th:only-of-type {\n",
       "        vertical-align: middle;\n",
       "    }\n",
       "\n",
       "    .dataframe tbody tr th {\n",
       "        vertical-align: top;\n",
       "    }\n",
       "\n",
       "    .dataframe thead th {\n",
       "        text-align: right;\n",
       "    }\n",
       "</style>\n",
       "<table border=\"1\" class=\"dataframe\">\n",
       "  <thead>\n",
       "    <tr style=\"text-align: right;\">\n",
       "      <th></th>\n",
       "      <th>country_name</th>\n",
       "      <th>series_name</th>\n",
       "      <th>yr2011</th>\n",
       "      <th>yr2012</th>\n",
       "      <th>yr2013</th>\n",
       "      <th>yr2014</th>\n",
       "      <th>yr2015</th>\n",
       "      <th>yr2016</th>\n",
       "      <th>yr2017</th>\n",
       "      <th>yr2018</th>\n",
       "    </tr>\n",
       "  </thead>\n",
       "  <tbody>\n",
       "  </tbody>\n",
       "</table>\n",
       "</div>"
      ],
      "text/plain": [
       "Empty DataFrame\n",
       "Columns: [country_name, series_name, yr2011, yr2012, yr2013, yr2014, yr2015, yr2016, yr2017, yr2018]\n",
       "Index: []"
      ]
     },
     "execution_count": 27,
     "metadata": {},
     "output_type": "execute_result"
    }
   ],
   "source": [
    "pd.read_sql_query('select * from WorldBank_data', con=engine).head()"
   ]
  },
  {
   "cell_type": "code",
   "execution_count": null,
   "metadata": {},
   "outputs": [],
   "source": []
  }
 ],
 "metadata": {
  "kernelspec": {
   "display_name": "Python 3",
   "language": "python",
   "name": "python3"
  },
  "language_info": {
   "codemirror_mode": {
    "name": "ipython",
    "version": 3
   },
   "file_extension": ".py",
   "mimetype": "text/x-python",
   "name": "python",
   "nbconvert_exporter": "python",
   "pygments_lexer": "ipython3",
   "version": "3.7.6"
  }
 },
 "nbformat": 4,
 "nbformat_minor": 4
}
