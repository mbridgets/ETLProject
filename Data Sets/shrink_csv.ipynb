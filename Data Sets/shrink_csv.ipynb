{
 "cells": [
  {
   "cell_type": "code",
   "execution_count": 1,
   "metadata": {},
   "outputs": [],
   "source": [
    "import pandas as pd"
   ]
  },
  {
   "cell_type": "code",
   "execution_count": 2,
   "metadata": {},
   "outputs": [],
   "source": [
    "kiva_loans_path=\"loans.csv\""
   ]
  },
  {
   "cell_type": "code",
   "execution_count": 3,
   "metadata": {},
   "outputs": [],
   "source": [
    "kiva_loans_df=pd.read_csv(kiva_loans_path)"
   ]
  },
  {
   "cell_type": "code",
   "execution_count": 4,
   "metadata": {},
   "outputs": [],
   "source": [
    "kiva_loans_clean_df = kiva_loans_df[['LOAN_ID', 'LOAN_NAME',\n",
    "       'FUNDED_AMOUNT', 'LOAN_AMOUNT', 'STATUS', 'ACTIVITY_NAME', 'SECTOR_NAME',\n",
    "       'COUNTRY_CODE', 'COUNTRY_NAME', 'TOWN_NAME', 'CURRENCY',\n",
    "       'DISBURSE_TIME', 'LENDER_TERM', 'NUM_LENDERS_TOTAL',\n",
    "       'BORROWER_GENDERS', 'REPAYMENT_INTERVAL']]"
   ]
  },
  {
   "cell_type": "code",
   "execution_count": 6,
   "metadata": {},
   "outputs": [],
   "source": [
    "kiva_country =  kiva_loans_clean_df[(kiva_loans_clean_df['COUNTRY_CODE'] == 'CR')|(kiva_loans_clean_df['COUNTRY_CODE'] == 'SV')|(kiva_loans_clean_df['COUNTRY_CODE'] == 'HN')|(kiva_loans_clean_df['COUNTRY_CODE'] == 'NI')]"
   ]
  },
  {
   "cell_type": "code",
   "execution_count": 7,
   "metadata": {},
   "outputs": [],
   "source": [
    "kiva_country.to_csv(\"kiva_loans_clean\")"
   ]
  },
  {
   "cell_type": "code",
   "execution_count": null,
   "metadata": {},
   "outputs": [],
   "source": []
  }
 ],
 "metadata": {
  "kernelspec": {
   "display_name": "Python 3",
   "language": "python",
   "name": "python3"
  },
  "language_info": {
   "codemirror_mode": {
    "name": "ipython",
    "version": 3
   },
   "file_extension": ".py",
   "mimetype": "text/x-python",
   "name": "python",
   "nbconvert_exporter": "python",
   "pygments_lexer": "ipython3",
   "version": "3.7.6"
  }
 },
 "nbformat": 4,
 "nbformat_minor": 4
}
